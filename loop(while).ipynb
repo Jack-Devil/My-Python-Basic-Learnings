{
 "cells": [
  {
   "cell_type": "code",
   "execution_count": 1,
   "metadata": {},
   "outputs": [
    {
     "name": "stdout",
     "output_type": "stream",
     "text": [
      "1\n",
      "2\n",
      "3\n",
      "4\n",
      "5\n"
     ]
    }
   ],
   "source": [
    "number=1\n",
    "while number<=5:\n",
    "    print(number)\n",
    "    number=number+1"
   ]
  },
  {
   "cell_type": "markdown",
   "metadata": {},
   "source": [
    "Allow user to quit"
   ]
  },
  {
   "cell_type": "code",
   "execution_count": 4,
   "metadata": {},
   "outputs": [
    {
     "name": "stdout",
     "output_type": "stream",
     "text": [
      "experiment program\n",
      "enter end to quit: hi\n",
      "hi\n",
      "experiment program\n",
      "enter end to quit: hlw\n",
      "hlw\n",
      "experiment program\n",
      "enter end to quit: end\n",
      "end\n"
     ]
    }
   ],
   "source": [
    "text=\"experiment program\"\n",
    "text = text+\"\\nenter end to quit: \"\n",
    "msg=\"\"\n",
    "while msg!=\"end\":\n",
    "    msg=input(text)\n",
    "    print(msg)"
   ]
  },
  {
   "cell_type": "code",
   "execution_count": 5,
   "metadata": {},
   "outputs": [
    {
     "name": "stdout",
     "output_type": "stream",
     "text": [
      "experiment program\n",
      "enter end to quit: hi\n",
      "experiment program\n",
      "enter end to quit: end\n"
     ]
    }
   ],
   "source": [
    "text=\"experiment program\"\n",
    "text = text+\"\\nenter end to quit: \"\n",
    "msg=\"\"\n",
    "while msg!=\"end\":\n",
    "    msg=input(text)\n",
    "if msg!=\"end\":\n",
    "    print(msg)"
   ]
  },
  {
   "cell_type": "markdown",
   "metadata": {},
   "source": [
    "using flag"
   ]
  },
  {
   "cell_type": "code",
   "execution_count": 10,
   "metadata": {},
   "outputs": [
    {
     "name": "stdout",
     "output_type": "stream",
     "text": [
      "experiment program\n",
      "enter end to quit: hi\n",
      "hi\n",
      "experiment program\n",
      "enter end to quit: end\n"
     ]
    }
   ],
   "source": [
    "text=\"experiment program\"\n",
    "text = text+\"\\nenter end to quit: \"\n",
    "flag=True\n",
    "while flag:\n",
    "        msg=input(text)\n",
    "        if msg==\"end\":\n",
    "            flag=False\n",
    "        else:\n",
    "            print(msg)"
   ]
  },
  {
   "cell_type": "code",
   "execution_count": null,
   "metadata": {},
   "outputs": [],
   "source": []
  }
 ],
 "metadata": {
  "kernelspec": {
   "display_name": "Python 3",
   "language": "python",
   "name": "python3"
  },
  "language_info": {
   "codemirror_mode": {
    "name": "ipython",
    "version": 3
   },
   "file_extension": ".py",
   "mimetype": "text/x-python",
   "name": "python",
   "nbconvert_exporter": "python",
   "pygments_lexer": "ipython3",
   "version": "3.7.3"
  }
 },
 "nbformat": 4,
 "nbformat_minor": 2
}
