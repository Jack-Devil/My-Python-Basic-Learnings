{
 "cells": [
  {
   "cell_type": "code",
   "execution_count": 6,
   "metadata": {},
   "outputs": [],
   "source": [
    "user={\"uname\":\"Rafi\",\"password\":\"abcdav\"}"
   ]
  },
  {
   "cell_type": "code",
   "execution_count": 7,
   "metadata": {},
   "outputs": [
    {
     "name": "stdout",
     "output_type": "stream",
     "text": [
      "{'uname': 'Rafi', 'password': 'abcdav'}\n"
     ]
    }
   ],
   "source": [
    "print(user)"
   ]
  },
  {
   "cell_type": "markdown",
   "metadata": {},
   "source": [
    "Access value"
   ]
  },
  {
   "cell_type": "code",
   "execution_count": 15,
   "metadata": {},
   "outputs": [
    {
     "name": "stdout",
     "output_type": "stream",
     "text": [
      "Your username is Rafi\n"
     ]
    }
   ],
   "source": [
    "print(\"Your username is \" + user[\"uname\"])"
   ]
  },
  {
   "cell_type": "markdown",
   "metadata": {},
   "source": [
    "Adding key values pair"
   ]
  },
  {
   "cell_type": "code",
   "execution_count": 16,
   "metadata": {},
   "outputs": [],
   "source": [
    "user = \"age=23\""
   ]
  },
  {
   "cell_type": "code",
   "execution_count": 17,
   "metadata": {},
   "outputs": [
    {
     "name": "stdout",
     "output_type": "stream",
     "text": [
      "age=23\n"
     ]
    }
   ],
   "source": [
    "print(user)"
   ]
  },
  {
   "cell_type": "code",
   "execution_count": 18,
   "metadata": {},
   "outputs": [],
   "source": [
    "user={\"uname\":\"Rafi\",\"password\":\"abcdav\"}"
   ]
  },
  {
   "cell_type": "code",
   "execution_count": 19,
   "metadata": {},
   "outputs": [],
   "source": [
    "user[\"age\"]=23"
   ]
  },
  {
   "cell_type": "code",
   "execution_count": 20,
   "metadata": {},
   "outputs": [
    {
     "name": "stdout",
     "output_type": "stream",
     "text": [
      "{'uname': 'Rafi', 'password': 'abcdav', 'age': 23}\n"
     ]
    }
   ],
   "source": [
    "print(user)"
   ]
  },
  {
   "cell_type": "code",
   "execution_count": 25,
   "metadata": {},
   "outputs": [
    {
     "name": "stdout",
     "output_type": "stream",
     "text": [
      "Your age is 23\n"
     ]
    }
   ],
   "source": [
    "print(\"Your age is \" + str(user[\"age\"]))"
   ]
  },
  {
   "cell_type": "code",
   "execution_count": 26,
   "metadata": {},
   "outputs": [],
   "source": [
    "user2={}"
   ]
  },
  {
   "cell_type": "code",
   "execution_count": 27,
   "metadata": {},
   "outputs": [],
   "source": [
    "user2[\"uname\"]=\"Ashik\""
   ]
  },
  {
   "cell_type": "code",
   "execution_count": 28,
   "metadata": {},
   "outputs": [],
   "source": [
    "user2[\"password\"]=\"asjdhbdhsj\"\n",
    "user2[\"age\"]=28"
   ]
  },
  {
   "cell_type": "code",
   "execution_count": 29,
   "metadata": {},
   "outputs": [
    {
     "name": "stdout",
     "output_type": "stream",
     "text": [
      "{'uname': 'Ashik', 'password': 'asjdhbdhsj', 'age': 28}\n"
     ]
    }
   ],
   "source": [
    "print(user2)"
   ]
  },
  {
   "cell_type": "markdown",
   "metadata": {},
   "source": [
    "modify value"
   ]
  },
  {
   "cell_type": "code",
   "execution_count": 30,
   "metadata": {},
   "outputs": [
    {
     "name": "stdout",
     "output_type": "stream",
     "text": [
      "{'uname': 'Ashik', 'password': 'asjdhbdhsj', 'age': 28}\n"
     ]
    }
   ],
   "source": [
    "print(user2)"
   ]
  },
  {
   "cell_type": "code",
   "execution_count": 31,
   "metadata": {},
   "outputs": [],
   "source": [
    "user2[\"uname\"]=\"SHowrav\""
   ]
  },
  {
   "cell_type": "code",
   "execution_count": 32,
   "metadata": {},
   "outputs": [
    {
     "name": "stdout",
     "output_type": "stream",
     "text": [
      "{'uname': 'SHowrav', 'password': 'asjdhbdhsj', 'age': 28}\n"
     ]
    }
   ],
   "source": [
    "print(user2)"
   ]
  },
  {
   "cell_type": "code",
   "execution_count": 33,
   "metadata": {},
   "outputs": [],
   "source": [
    "user2[\"age\"]='28'"
   ]
  },
  {
   "cell_type": "code",
   "execution_count": 34,
   "metadata": {},
   "outputs": [
    {
     "name": "stdout",
     "output_type": "stream",
     "text": [
      "{'uname': 'SHowrav', 'password': 'asjdhbdhsj', 'age': '28'}\n"
     ]
    }
   ],
   "source": [
    "print(user2)"
   ]
  },
  {
   "cell_type": "code",
   "execution_count": 35,
   "metadata": {},
   "outputs": [],
   "source": [
    "user2[\"age\"]=28"
   ]
  },
  {
   "cell_type": "code",
   "execution_count": 40,
   "metadata": {},
   "outputs": [
    {
     "name": "stdout",
     "output_type": "stream",
     "text": [
      "Welcome to SHowrav Channel \n"
     ]
    }
   ],
   "source": [
    "if user2[\"uname\"]==\"SHowrav\":\n",
    "    print(\"Welcome to \" +user2[\"uname\"] + \" Channel \")\n",
    "else:\n",
    "    print(\"Username not found\")"
   ]
  },
  {
   "cell_type": "code",
   "execution_count": 41,
   "metadata": {},
   "outputs": [
    {
     "name": "stdout",
     "output_type": "stream",
     "text": [
      "Username not found\n"
     ]
    }
   ],
   "source": [
    "if user2[\"uname\"]==\"rafi\":\n",
    "    print(\"Welcome to \" +user2[\"uname\"] + \" Channel \")\n",
    "else:\n",
    "    print(\"Username not found\")"
   ]
  },
  {
   "cell_type": "raw",
   "metadata": {},
   "source": [
    "removing key value pair"
   ]
  },
  {
   "cell_type": "code",
   "execution_count": 42,
   "metadata": {},
   "outputs": [
    {
     "name": "stdout",
     "output_type": "stream",
     "text": [
      "{'uname': 'Rafi', 'password': 'abcdav', 'age': 23}\n"
     ]
    }
   ],
   "source": [
    "print(user)"
   ]
  },
  {
   "cell_type": "code",
   "execution_count": 44,
   "metadata": {},
   "outputs": [],
   "source": [
    "del user[\"age\"]"
   ]
  },
  {
   "cell_type": "code",
   "execution_count": 45,
   "metadata": {},
   "outputs": [
    {
     "name": "stdout",
     "output_type": "stream",
     "text": [
      "{'uname': 'Rafi', 'password': 'abcdav'}\n"
     ]
    }
   ],
   "source": [
    "print(user)"
   ]
  },
  {
   "cell_type": "markdown",
   "metadata": {},
   "source": [
    "similar object"
   ]
  },
  {
   "cell_type": "code",
   "execution_count": 49,
   "metadata": {},
   "outputs": [],
   "source": [
    "user_age = {\n",
    "    \"rafi\" : 23,\n",
    "    \"ashik\" : 24,\n",
    "    \"showrav\" : 25,\n",
    "    \"ridoy\" : 28,\n",
    "}"
   ]
  },
  {
   "cell_type": "code",
   "execution_count": 48,
   "metadata": {},
   "outputs": [
    {
     "name": "stdout",
     "output_type": "stream",
     "text": [
      "{'rafi': '23', 'ashik': '24', 'showrav': '25', 'ridoy': '28'}\n"
     ]
    }
   ],
   "source": [
    "print(user_age)"
   ]
  },
  {
   "cell_type": "code",
   "execution_count": 51,
   "metadata": {},
   "outputs": [
    {
     "name": "stdout",
     "output_type": "stream",
     "text": [
      "Rafi's age is 23 \n"
     ]
    }
   ],
   "source": [
    "print(\"Rafi's age is \" +str(user_age[\"rafi\"])+\" \")"
   ]
  },
  {
   "cell_type": "code",
   "execution_count": 52,
   "metadata": {},
   "outputs": [
    {
     "name": "stdout",
     "output_type": "stream",
     "text": [
      "Rafi's age is 23 \n"
     ]
    }
   ],
   "source": [
    "print(\"Rafi's age is \"\n",
    "      +str(user_age[\"rafi\"])+\n",
    "      \" \")"
   ]
  },
  {
   "cell_type": "markdown",
   "metadata": {},
   "source": [
    "Loopping"
   ]
  },
  {
   "cell_type": "code",
   "execution_count": 53,
   "metadata": {},
   "outputs": [
    {
     "name": "stdout",
     "output_type": "stream",
     "text": [
      "{'rafi': 23, 'ashik': 24, 'showrav': 25, 'ridoy': 28}\n"
     ]
    }
   ],
   "source": [
    "print(user_age)"
   ]
  },
  {
   "cell_type": "code",
   "execution_count": 58,
   "metadata": {},
   "outputs": [
    {
     "name": "stdout",
     "output_type": "stream",
     "text": [
      "Name:rafi\n",
      "age:23\n",
      "Name:ashik\n",
      "age:24\n",
      "Name:showrav\n",
      "age:25\n",
      "Name:ridoy\n",
      "age:28\n"
     ]
    }
   ],
   "source": [
    "for key,value in user_age.items():\n",
    "    print(\"Name:\"+key)\n",
    "    print(\"age:\" +str(value))"
   ]
  },
  {
   "cell_type": "code",
   "execution_count": 59,
   "metadata": {},
   "outputs": [
    {
     "name": "stdout",
     "output_type": "stream",
     "text": [
      "{'uname': 'Rafi', 'password': 'abcdav'}\n"
     ]
    }
   ],
   "source": [
    "print(user)"
   ]
  },
  {
   "cell_type": "code",
   "execution_count": 60,
   "metadata": {},
   "outputs": [
    {
     "name": "stdout",
     "output_type": "stream",
     "text": [
      "Name:uname\n",
      "Password:Rafi\n",
      "Name:password\n",
      "Password:abcdav\n"
     ]
    }
   ],
   "source": [
    "for i,j in user.items():\n",
    "    print(\"Name:\"+i)\n",
    "    print(\"Password:\" +str(j))"
   ]
  },
  {
   "cell_type": "markdown",
   "metadata": {},
   "source": [
    "looping in keys"
   ]
  },
  {
   "cell_type": "code",
   "execution_count": 61,
   "metadata": {},
   "outputs": [
    {
     "name": "stdout",
     "output_type": "stream",
     "text": [
      "{'rafi': 23, 'ashik': 24, 'showrav': 25, 'ridoy': 28}\n"
     ]
    }
   ],
   "source": [
    "print(user_age)"
   ]
  },
  {
   "cell_type": "code",
   "execution_count": 65,
   "metadata": {},
   "outputs": [
    {
     "name": "stdout",
     "output_type": "stream",
     "text": [
      "Name: rafi\n",
      "Name: ashik\n",
      "Name: showrav\n",
      "Name: ridoy\n"
     ]
    }
   ],
   "source": [
    "for i in user_age.keys():\n",
    "    print(\"Name: \" + i)"
   ]
  },
  {
   "cell_type": "code",
   "execution_count": 66,
   "metadata": {},
   "outputs": [
    {
     "name": "stdout",
     "output_type": "stream",
     "text": [
      "Name: rafi\n",
      "Name: ashik\n",
      "Name: showrav\n",
      "Name: ridoy\n"
     ]
    }
   ],
   "source": [
    "for i in user_age:\n",
    "    print(\"Name: \" + i)"
   ]
  },
  {
   "cell_type": "code",
   "execution_count": 68,
   "metadata": {},
   "outputs": [
    {
     "name": "stdout",
     "output_type": "stream",
     "text": [
      "Nothing\n",
      "Nothing\n",
      "Nothing\n",
      "Nothing\n"
     ]
    }
   ],
   "source": [
    "for i in user_age:\n",
    "    if i==\"John\":\n",
    "        print(\"Name: \" + i)\n",
    "    else:\n",
    "        print(\"Nothing\")"
   ]
  },
  {
   "cell_type": "code",
   "execution_count": 71,
   "metadata": {},
   "outputs": [
    {
     "name": "stdout",
     "output_type": "stream",
     "text": [
      "Name: rafi\n"
     ]
    }
   ],
   "source": [
    "for i in user_age:\n",
    "    if i==\"rafi\":\n",
    "        print(\"Name: \" + i)\n",
    "   "
   ]
  },
  {
   "cell_type": "code",
   "execution_count": 72,
   "metadata": {},
   "outputs": [
    {
     "name": "stdout",
     "output_type": "stream",
     "text": [
      "Hello\n"
     ]
    }
   ],
   "source": [
    "if \"rafi\" in user_age:\n",
    "    print(\"Hello\")"
   ]
  },
  {
   "cell_type": "markdown",
   "metadata": {},
   "source": [
    "sorting keys while looping"
   ]
  },
  {
   "cell_type": "code",
   "execution_count": 73,
   "metadata": {},
   "outputs": [],
   "source": [
    "user_age = {\n",
    "    \"rafi\" : 23,\n",
    "    \"Shakil\": 23,\n",
    "    \"Riaz\" : 25,\n",
    "    \"ashik\" : 24,\n",
    "    \"showrav\" : 25,\n",
    "    \"ridoy\" : 28,\n",
    "}"
   ]
  },
  {
   "cell_type": "code",
   "execution_count": 74,
   "metadata": {},
   "outputs": [
    {
     "name": "stdout",
     "output_type": "stream",
     "text": [
      "{'rafi': 23, 'Shakil': 23, 'Riaz': 25, 'ashik': 24, 'showrav': 25, 'ridoy': 28}\n"
     ]
    }
   ],
   "source": [
    "print(user_age)"
   ]
  },
  {
   "cell_type": "code",
   "execution_count": 75,
   "metadata": {},
   "outputs": [
    {
     "name": "stdout",
     "output_type": "stream",
     "text": [
      "Name:rafi\n",
      "Name:Shakil\n",
      "Name:Riaz\n",
      "Name:ashik\n",
      "Name:showrav\n",
      "Name:ridoy\n"
     ]
    }
   ],
   "source": [
    "for a in user_age:\n",
    "    print(\"Name:\" + a)"
   ]
  },
  {
   "cell_type": "code",
   "execution_count": 76,
   "metadata": {},
   "outputs": [
    {
     "name": "stdout",
     "output_type": "stream",
     "text": [
      "Name:Riaz\n",
      "Name:Shakil\n",
      "Name:ashik\n",
      "Name:rafi\n",
      "Name:ridoy\n",
      "Name:showrav\n"
     ]
    }
   ],
   "source": [
    "for a in sorted(user_age):\n",
    "    print(\"Name:\" + a)"
   ]
  },
  {
   "cell_type": "markdown",
   "metadata": {},
   "source": [
    "nesting\n",
    "List of Dictionaries\n"
   ]
  },
  {
   "cell_type": "code",
   "execution_count": 80,
   "metadata": {},
   "outputs": [],
   "source": [
    "name1={\"name\":\"abc\",\"group\":\"A\",\"age\":23}"
   ]
  },
  {
   "cell_type": "code",
   "execution_count": 81,
   "metadata": {},
   "outputs": [],
   "source": [
    "name2={\"name\":\"def\",\"group\":\"B\",\"age\":25}\n"
   ]
  },
  {
   "cell_type": "code",
   "execution_count": 82,
   "metadata": {},
   "outputs": [],
   "source": [
    "name=[name1,name2]"
   ]
  },
  {
   "cell_type": "code",
   "execution_count": 83,
   "metadata": {},
   "outputs": [
    {
     "name": "stdout",
     "output_type": "stream",
     "text": [
      "{'name': 'abc', 'group': 'A', 'age': 23}\n",
      "{'name': 'def', 'group': 'B', 'age': 25}\n"
     ]
    }
   ],
   "source": [
    "for n in name:\n",
    "    print(n)"
   ]
  },
  {
   "cell_type": "code",
   "execution_count": 90,
   "metadata": {},
   "outputs": [],
   "source": [
    "#empty list\n",
    "enemies=[]"
   ]
  },
  {
   "cell_type": "code",
   "execution_count": 92,
   "metadata": {},
   "outputs": [],
   "source": [
    "for enemy_number in range(20):\n",
    "    enemy_dict={\"color\":\"black\",\"point\":10}\n",
    "    enemies.append(enemy_dict)"
   ]
  },
  {
   "cell_type": "code",
   "execution_count": 93,
   "metadata": {},
   "outputs": [
    {
     "name": "stdout",
     "output_type": "stream",
     "text": [
      "[]\n"
     ]
    }
   ],
   "source": [
    "print(enimies)"
   ]
  },
  {
   "cell_type": "code",
   "execution_count": 94,
   "metadata": {},
   "outputs": [
    {
     "name": "stdout",
     "output_type": "stream",
     "text": [
      "[{'color': 'black', 'point': 10}, {'color': 'black', 'point': 10}, {'color': 'black', 'point': 10}, {'color': 'black', 'point': 10}, {'color': 'black', 'point': 10}, {'color': 'black', 'point': 10}, {'color': 'black', 'point': 10}, {'color': 'black', 'point': 10}, {'color': 'black', 'point': 10}, {'color': 'black', 'point': 10}, {'color': 'black', 'point': 10}, {'color': 'black', 'point': 10}, {'color': 'black', 'point': 10}, {'color': 'black', 'point': 10}, {'color': 'black', 'point': 10}, {'color': 'black', 'point': 10}, {'color': 'black', 'point': 10}, {'color': 'black', 'point': 10}, {'color': 'black', 'point': 10}, {'color': 'black', 'point': 10}]\n"
     ]
    }
   ],
   "source": [
    "print(enemies)"
   ]
  },
  {
   "cell_type": "code",
   "execution_count": 95,
   "metadata": {},
   "outputs": [
    {
     "data": {
      "text/plain": [
       "20"
      ]
     },
     "execution_count": 95,
     "metadata": {},
     "output_type": "execute_result"
    }
   ],
   "source": [
    "len(enemies)"
   ]
  },
  {
   "cell_type": "code",
   "execution_count": 98,
   "metadata": {},
   "outputs": [
    {
     "name": "stdout",
     "output_type": "stream",
     "text": [
      "Total enemies created is 20\n"
     ]
    }
   ],
   "source": [
    "print(\"Total enemies created is \" + str(len(enemies)))"
   ]
  },
  {
   "cell_type": "code",
   "execution_count": 100,
   "metadata": {},
   "outputs": [
    {
     "name": "stdout",
     "output_type": "stream",
     "text": [
      "{'color': 'black', 'point': 10}\n",
      "{'color': 'black', 'point': 10}\n",
      "{'color': 'black', 'point': 10}\n"
     ]
    }
   ],
   "source": [
    "for first_three in enemies[:3]:\n",
    "    print(first_three)"
   ]
  },
  {
   "cell_type": "code",
   "execution_count": 103,
   "metadata": {},
   "outputs": [],
   "source": [
    "for color in enemies[:5]:\n",
    "    if color[\"color\"]==\"black\":\n",
    "        color[\"color\"]=\"green\""
   ]
  },
  {
   "cell_type": "code",
   "execution_count": 104,
   "metadata": {},
   "outputs": [
    {
     "name": "stdout",
     "output_type": "stream",
     "text": [
      "[{'color': 'green', 'point': 10}, {'color': 'green', 'point': 10}, {'color': 'green', 'point': 10}, {'color': 'green', 'point': 10}, {'color': 'green', 'point': 10}, {'color': 'black', 'point': 10}, {'color': 'black', 'point': 10}, {'color': 'black', 'point': 10}, {'color': 'black', 'point': 10}, {'color': 'black', 'point': 10}, {'color': 'black', 'point': 10}, {'color': 'black', 'point': 10}, {'color': 'black', 'point': 10}, {'color': 'black', 'point': 10}, {'color': 'black', 'point': 10}, {'color': 'black', 'point': 10}, {'color': 'black', 'point': 10}, {'color': 'black', 'point': 10}, {'color': 'black', 'point': 10}, {'color': 'black', 'point': 10}]\n"
     ]
    }
   ],
   "source": [
    "print(enemies)"
   ]
  },
  {
   "cell_type": "code",
   "execution_count": 105,
   "metadata": {},
   "outputs": [
    {
     "name": "stdout",
     "output_type": "stream",
     "text": [
      "{'color': 'green', 'point': 10}\n",
      "{'color': 'green', 'point': 10}\n",
      "{'color': 'green', 'point': 10}\n",
      "{'color': 'green', 'point': 10}\n",
      "{'color': 'green', 'point': 10}\n"
     ]
    }
   ],
   "source": [
    "for first_three in enemies[:5]:\n",
    "    print(first_three)"
   ]
  },
  {
   "cell_type": "markdown",
   "metadata": {},
   "source": [
    "list in Dictionary"
   ]
  },
  {
   "cell_type": "code",
   "execution_count": 106,
   "metadata": {},
   "outputs": [],
   "source": [
    "user={\"name\":\"abc\",\"hobbies\":[\"singing\",\"travelling\",\"gardening\",\"reading\"]}"
   ]
  },
  {
   "cell_type": "code",
   "execution_count": 107,
   "metadata": {},
   "outputs": [
    {
     "name": "stdout",
     "output_type": "stream",
     "text": [
      "{'name': 'abc', 'hobbies': ['singing', 'travelling', 'gardening', 'reading']}\n"
     ]
    }
   ],
   "source": [
    "print(user)"
   ]
  },
  {
   "cell_type": "code",
   "execution_count": 108,
   "metadata": {},
   "outputs": [
    {
     "name": "stdout",
     "output_type": "stream",
     "text": [
      "['singing', 'travelling', 'gardening', 'reading']\n"
     ]
    }
   ],
   "source": [
    "print(user[\"hobbies\"])"
   ]
  },
  {
   "cell_type": "code",
   "execution_count": 110,
   "metadata": {},
   "outputs": [
    {
     "name": "stdout",
     "output_type": "stream",
     "text": [
      "List of hobbies for user abc\n",
      "\tsinging\n",
      "\ttravelling\n",
      "\tgardening\n",
      "\treading\n"
     ]
    }
   ],
   "source": [
    "print(\"List of hobbies for user \"+ user[\"name\"])\n",
    "for hobby in user[\"hobbies\"]:\n",
    "    print(\"\\t\"+hobby)"
   ]
  },
  {
   "cell_type": "code",
   "execution_count": 111,
   "metadata": {},
   "outputs": [
    {
     "name": "stdout",
     "output_type": "stream",
     "text": [
      "List of hobbies for user abc\n",
      "\n",
      "singing\n",
      "\n",
      "travelling\n",
      "\n",
      "gardening\n",
      "\n",
      "reading\n"
     ]
    }
   ],
   "source": [
    "print(\"List of hobbies for user \"+ user[\"name\"])\n",
    "for h in user[\"hobbies\"]:\n",
    "    print(\"\\n\"+h)"
   ]
  },
  {
   "cell_type": "code",
   "execution_count": 112,
   "metadata": {},
   "outputs": [],
   "source": [
    "users={\"user1\":[\"singing\",\"playing\"],\"user2\":[\"dancing\",\"surfing\"]}"
   ]
  },
  {
   "cell_type": "code",
   "execution_count": 115,
   "metadata": {},
   "outputs": [
    {
     "name": "stdout",
     "output_type": "stream",
     "text": [
      "{'user1': ['singing', 'playing'], 'user2': ['dancing', 'surfing']}\n"
     ]
    }
   ],
   "source": [
    "print(users)"
   ]
  },
  {
   "cell_type": "code",
   "execution_count": 118,
   "metadata": {},
   "outputs": [
    {
     "name": "stdout",
     "output_type": "stream",
     "text": [
      "['singing', 'playing']\n"
     ]
    }
   ],
   "source": [
    "print(users[\"user1\"])"
   ]
  },
  {
   "cell_type": "markdown",
   "metadata": {},
   "source": [
    "dictionary in dictionary"
   ]
  },
  {
   "cell_type": "code",
   "execution_count": 124,
   "metadata": {},
   "outputs": [],
   "source": [
    "users={\"user1\":{\"name\":\"rafi\",\"hobby\":\"singing\"}, \"user2\":{\"name\":\"ashik\",\"hobby\":\"dancing\"}}"
   ]
  },
  {
   "cell_type": "code",
   "execution_count": 126,
   "metadata": {},
   "outputs": [
    {
     "name": "stdout",
     "output_type": "stream",
     "text": [
      "Username: user1\n",
      "Username: user2\n"
     ]
    }
   ],
   "source": [
    "for u_name,u_hobby in users.items():\n",
    "    print(\"Username: \" +u_name)"
   ]
  },
  {
   "cell_type": "code",
   "execution_count": 134,
   "metadata": {},
   "outputs": [
    {
     "name": "stdout",
     "output_type": "stream",
     "text": [
      "Username:user1\n",
      "{'name': 'rafi', 'hobby': 'singing'}\n",
      "Username:user2\n",
      "{'name': 'ashik', 'hobby': 'dancing'}\n"
     ]
    }
   ],
   "source": [
    "for u_name,u_hobby in users.items():\n",
    "    print(\"Username:\" + u_name)\n",
    "    print(u_hobby)"
   ]
  },
  {
   "cell_type": "markdown",
   "metadata": {},
   "source": [
    "# VVI"
   ]
  },
  {
   "cell_type": "code",
   "execution_count": 141,
   "metadata": {},
   "outputs": [
    {
     "name": "stdout",
     "output_type": "stream",
     "text": [
      "Username :user1\n",
      "Name: rafi\n",
      "Hobby: singing\n",
      "Username :user2\n",
      "Name: ashik\n",
      "Hobby: dancing\n"
     ]
    }
   ],
   "source": [
    "for u_name,u_hobby in users.items():\n",
    "    print(\"Username :\" + u_name)\n",
    "    print(\"Name: \" +u_hobby[\"name\"])\n",
    "    print(\"Hobby: \" +u_hobby[\"hobby\"])"
   ]
  }
 ],
 "metadata": {
  "kernelspec": {
   "display_name": "Python 3",
   "language": "python",
   "name": "python3"
  },
  "language_info": {
   "codemirror_mode": {
    "name": "ipython",
    "version": 3
   },
   "file_extension": ".py",
   "mimetype": "text/x-python",
   "name": "python",
   "nbconvert_exporter": "python",
   "pygments_lexer": "ipython3",
   "version": "3.7.3"
  }
 },
 "nbformat": 4,
 "nbformat_minor": 2
}
