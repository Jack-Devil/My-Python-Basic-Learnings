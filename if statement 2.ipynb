{
 "cells": [
  {
   "cell_type": "code",
   "execution_count": 1,
   "metadata": {},
   "outputs": [
    {
     "name": "stdout",
     "output_type": "stream",
     "text": [
      "You can vote\n"
     ]
    }
   ],
   "source": [
    "age=18\n",
    "if age>=18:\n",
    "    print(\"You can vote\")"
   ]
  },
  {
   "cell_type": "code",
   "execution_count": 2,
   "metadata": {},
   "outputs": [
    {
     "name": "stdout",
     "output_type": "stream",
     "text": [
      "Sorry, you cant vote\n"
     ]
    }
   ],
   "source": [
    "age=17\n",
    "if age>=18:\n",
    "    print(\"You can vote\")\n",
    "else:\n",
    "    print(\"Sorry, you cant vote\")"
   ]
  },
  {
   "cell_type": "markdown",
   "metadata": {},
   "source": [
    "if elif statement"
   ]
  },
  {
   "cell_type": "code",
   "execution_count": 3,
   "metadata": {},
   "outputs": [],
   "source": [
    "age=10"
   ]
  },
  {
   "cell_type": "code",
   "execution_count": 4,
   "metadata": {},
   "outputs": [
    {
     "name": "stdout",
     "output_type": "stream",
     "text": [
      "charge is $5\n"
     ]
    }
   ],
   "source": [
    "if age<=10:\n",
    "    print(\"charge is $5\")\n",
    "elif age>=10 and age>=20:\n",
    "    print(\"charge is $10\")\n",
    "else:\n",
    "    print(\"charge is $15\")"
   ]
  },
  {
   "cell_type": "markdown",
   "metadata": {},
   "source": [
    "Multiple elif block"
   ]
  },
  {
   "cell_type": "code",
   "execution_count": 18,
   "metadata": {},
   "outputs": [
    {
     "name": "stdout",
     "output_type": "stream",
     "text": [
      "Admission charge is 15$\n"
     ]
    }
   ],
   "source": [
    "age=20\n",
    "if age<10:\n",
    "    price=5\n",
    "elif age>=10 and age<20:\n",
    "    price=10\n",
    "elif age>=20 and age<60:\n",
    "    price=15\n",
    "else:\n",
    "    price=20\n",
    "print(\"Admission charge is \"+str(price)+\"$\")"
   ]
  },
  {
   "cell_type": "markdown",
   "metadata": {},
   "source": [
    "Test multiple condition and omitting else"
   ]
  },
  {
   "cell_type": "code",
   "execution_count": 19,
   "metadata": {},
   "outputs": [],
   "source": [
    "car=[\"bmw\",\"ferari\",\"toyota\",\"carina\"]"
   ]
  },
  {
   "cell_type": "code",
   "execution_count": 21,
   "metadata": {},
   "outputs": [
    {
     "name": "stdout",
     "output_type": "stream",
     "text": [
      "You have a bmw car\n",
      "You have a ferari car\n"
     ]
    }
   ],
   "source": [
    "if \"bmw\" in car:\n",
    "    print(\"You have a bmw car\")\n",
    "if \"ferari\" in car:\n",
    "    print(\"You have a ferari car\")\n",
    "if \"hyundai\" in car:\n",
    "    print(\"You have a hyundai car\")"
   ]
  },
  {
   "cell_type": "code",
   "execution_count": 24,
   "metadata": {},
   "outputs": [
    {
     "name": "stdout",
     "output_type": "stream",
     "text": [
      "You have a bmw car\n"
     ]
    }
   ],
   "source": [
    "if \"bmw\" in car:\n",
    "    print(\"You have a bmw car\")\n",
    "elif \"ferari\" in car:\n",
    "    print(\"You have a ferari car\")\n",
    "elif \"hyundai\" in car:\n",
    "    print(\"You have a hyundai car\")"
   ]
  },
  {
   "cell_type": "markdown",
   "metadata": {},
   "source": [
    "if statement with list"
   ]
  },
  {
   "cell_type": "code",
   "execution_count": 25,
   "metadata": {},
   "outputs": [
    {
     "data": {
      "text/plain": [
       "['bmw', 'ferari', 'toyota', 'carina']"
      ]
     },
     "execution_count": 25,
     "metadata": {},
     "output_type": "execute_result"
    }
   ],
   "source": [
    "car"
   ]
  },
  {
   "cell_type": "code",
   "execution_count": 29,
   "metadata": {},
   "outputs": [
    {
     "name": "stdout",
     "output_type": "stream",
     "text": [
      "bmw is available\n",
      "ferari is available\n",
      "toyota is available\n",
      "carina is available\n"
     ]
    }
   ],
   "source": [
    "for i in car:\n",
    "    print(\"\"+i+\" is available\")"
   ]
  },
  {
   "cell_type": "code",
   "execution_count": 34,
   "metadata": {},
   "outputs": [
    {
     "name": "stdout",
     "output_type": "stream",
     "text": [
      "BMW is not available\n",
      "ferari is available\n",
      "toyota is available\n",
      "carina is available\n"
     ]
    }
   ],
   "source": [
    "for i in car:\n",
    "    if i==\"bmw\":\n",
    "        print(\"BMW is not available\")\n",
    "    else:\n",
    "        print(\"\"+i+\" is available\")"
   ]
  },
  {
   "cell_type": "markdown",
   "metadata": {},
   "source": [
    "# Check for list is empty or not"
   ]
  },
  {
   "cell_type": "code",
   "execution_count": 40,
   "metadata": {},
   "outputs": [
    {
     "ename": "SyntaxError",
     "evalue": "invalid syntax (<ipython-input-40-f2e46751667b>, line 1)",
     "output_type": "error",
     "traceback": [
      "\u001b[1;36m  File \u001b[1;32m\"<ipython-input-40-f2e46751667b>\"\u001b[1;36m, line \u001b[1;32m1\u001b[0m\n\u001b[1;33m    car[]\u001b[0m\n\u001b[1;37m        ^\u001b[0m\n\u001b[1;31mSyntaxError\u001b[0m\u001b[1;31m:\u001b[0m invalid syntax\n"
     ]
    }
   ],
   "source": [
    "car[]\n",
    " for i in car:\n",
    "    if i==\"bmw\":\n",
    "        print(\"BMW is not available\")\n",
    "    else:\n",
    "        print(\"\"+i+\" is available\")"
   ]
  },
  {
   "cell_type": "code",
   "execution_count": 39,
   "metadata": {},
   "outputs": [
    {
     "name": "stdout",
     "output_type": "stream",
     "text": [
      "No car is available\n"
     ]
    }
   ],
   "source": [
    "car=[]\n",
    "if car:\n",
    " for i in car:\n",
    "    if i==\"bmw\":\n",
    "        print(\"BMW is not available\")\n",
    "    else:\n",
    "        print(\"\"+i+\" is available\")\n",
    "else:\n",
    "    print(\"No car is available\")"
   ]
  },
  {
   "cell_type": "code",
   "execution_count": 41,
   "metadata": {},
   "outputs": [
    {
     "name": "stdout",
     "output_type": "stream",
     "text": [
      "Toyota is available\n"
     ]
    }
   ],
   "source": [
    "car=[\"Toyota\"]\n",
    "if car:\n",
    " for i in car:\n",
    "    if i==\"bmw\":\n",
    "        print(\"BMW is not available\")\n",
    "    else:\n",
    "        print(\"\"+i+\" is available\")\n",
    "else:\n",
    "    print(\"No car is available\")"
   ]
  },
  {
   "cell_type": "markdown",
   "metadata": {},
   "source": [
    "using multiple list"
   ]
  },
  {
   "cell_type": "code",
   "execution_count": 42,
   "metadata": {},
   "outputs": [
    {
     "data": {
      "text/plain": [
       "['Toyota']"
      ]
     },
     "execution_count": 42,
     "metadata": {},
     "output_type": "execute_result"
    }
   ],
   "source": [
    "car"
   ]
  },
  {
   "cell_type": "code",
   "execution_count": 50,
   "metadata": {},
   "outputs": [],
   "source": [
    "cars=[\"audi\",\"bmw\",\"ferari\",\"lambo\",\"toyota\",\"hino\"]"
   ]
  },
  {
   "cell_type": "code",
   "execution_count": 44,
   "metadata": {},
   "outputs": [],
   "source": [
    "new_car=[\"marcedez\",\"hyundai\",\"hino\",\"Carina\"]"
   ]
  },
  {
   "cell_type": "code",
   "execution_count": 51,
   "metadata": {},
   "outputs": [
    {
     "name": "stdout",
     "output_type": "stream",
     "text": [
      "marcedez is not available\n",
      "hyundai is not available\n",
      "hino is available\n",
      "Carina is not available\n"
     ]
    }
   ],
   "source": [
    "for i in new_car:\n",
    "    if i in cars:\n",
    "        print(\"\"+i+\" is available\")\n",
    "    else:\n",
    "        print(\"\"+i+\" is not available\")"
   ]
  },
  {
   "cell_type": "code",
   "execution_count": null,
   "metadata": {},
   "outputs": [],
   "source": []
  },
  {
   "cell_type": "code",
   "execution_count": null,
   "metadata": {},
   "outputs": [],
   "source": []
  }
 ],
 "metadata": {
  "kernelspec": {
   "display_name": "Python 3",
   "language": "python",
   "name": "python3"
  },
  "language_info": {
   "codemirror_mode": {
    "name": "ipython",
    "version": 3
   },
   "file_extension": ".py",
   "mimetype": "text/x-python",
   "name": "python",
   "nbconvert_exporter": "python",
   "pygments_lexer": "ipython3",
   "version": "3.7.3"
  }
 },
 "nbformat": 4,
 "nbformat_minor": 2
}
